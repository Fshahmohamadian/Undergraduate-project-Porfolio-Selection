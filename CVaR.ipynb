{
 "cells": [
  {
   "cell_type": "code",
   "id": "3035f4f5-c089-45b4-ad7a-a4f2c9336aca",
   "metadata": {
    "ExecuteTime": {
     "end_time": "2024-09-14T14:00:16.230339Z",
     "start_time": "2024-09-14T14:00:10.835393Z"
    }
   },
   "source": [
    "from pyomo.environ import ConcreteModel, Var, Objective, Constraint, NonNegativeReals, minimize, SolverFactory\n",
    "import pyomo.environ as pyo\n",
    "import pandas as pd\n",
    "import numpy as np\n",
    "import warnings"
   ],
   "outputs": [],
   "execution_count": 1
  },
  {
   "cell_type": "code",
   "id": "d001ad32-2f3f-4004-bd14-9e2f490914c1",
   "metadata": {
    "ExecuteTime": {
     "end_time": "2024-09-14T14:08:51.878672Z",
     "start_time": "2024-09-14T14:08:51.867549Z"
    }
   },
   "source": [
    "warnings.filterwarnings('ignore') "
   ],
   "outputs": [],
   "execution_count": 2
  },
  {
   "cell_type": "code",
   "id": "71d834f8-8d90-4a2a-9714-b2951c4b2937",
   "metadata": {
    "ExecuteTime": {
     "end_time": "2024-09-14T14:09:02.426039Z",
     "start_time": "2024-09-14T14:09:01.580957Z"
    }
   },
   "source": [
    "model =pyo.ConcreteModel()\n",
    "model.iset=pyo.Set(initialize=range(1,4))\n",
    "model.sset=pyo.Set(initialize=range(1,11))\n",
    "model.C=pyo.Param(initialize=1000)\n",
    "model.Q=pyo.Param(initialize=0.02)\n",
    "model.p=pyo.Param(model.sset, default=0, initialize=0.1)\n",
    "model.alpha=pyo.Param(initialize=0.2)\n",
    "model.x=pyo.Var(model.iset, domain=pyo.NonNegativeReals)\n",
    "model.y=pyo.Var(model.sset, domain=pyo.NonNegativeReals)\n",
    "model.v=pyo.Var(domain = pyo.Reals)\n",
    "df = pd.read_excel('Book1.xlsx')\n",
    "df_new=df.copy()\n",
    "df_new.index= range(1,11)\n",
    "df_new"
   ],
   "outputs": [
    {
     "data": {
      "text/plain": [
       "       1     2     3\n",
       "1   0.05  0.10 -0.05\n",
       "2  -0.05  0.10  0.15\n",
       "3   0.10  0.10  0.20\n",
       "4  -0.05 -0.15  0.10\n",
       "5   0.07  0.05 -0.20\n",
       "6  -0.10  0.20  0.10\n",
       "7   0.15  0.05 -0.10\n",
       "8  -0.15 -0.10 -0.10\n",
       "9   0.05  0.10  0.05\n",
       "10  0.05  0.05  0.05"
      ],
      "text/html": [
       "<div>\n",
       "<style scoped>\n",
       "    .dataframe tbody tr th:only-of-type {\n",
       "        vertical-align: middle;\n",
       "    }\n",
       "\n",
       "    .dataframe tbody tr th {\n",
       "        vertical-align: top;\n",
       "    }\n",
       "\n",
       "    .dataframe thead th {\n",
       "        text-align: right;\n",
       "    }\n",
       "</style>\n",
       "<table border=\"1\" class=\"dataframe\">\n",
       "  <thead>\n",
       "    <tr style=\"text-align: right;\">\n",
       "      <th></th>\n",
       "      <th>1</th>\n",
       "      <th>2</th>\n",
       "      <th>3</th>\n",
       "    </tr>\n",
       "  </thead>\n",
       "  <tbody>\n",
       "    <tr>\n",
       "      <th>1</th>\n",
       "      <td>0.05</td>\n",
       "      <td>0.10</td>\n",
       "      <td>-0.05</td>\n",
       "    </tr>\n",
       "    <tr>\n",
       "      <th>2</th>\n",
       "      <td>-0.05</td>\n",
       "      <td>0.10</td>\n",
       "      <td>0.15</td>\n",
       "    </tr>\n",
       "    <tr>\n",
       "      <th>3</th>\n",
       "      <td>0.10</td>\n",
       "      <td>0.10</td>\n",
       "      <td>0.20</td>\n",
       "    </tr>\n",
       "    <tr>\n",
       "      <th>4</th>\n",
       "      <td>-0.05</td>\n",
       "      <td>-0.15</td>\n",
       "      <td>0.10</td>\n",
       "    </tr>\n",
       "    <tr>\n",
       "      <th>5</th>\n",
       "      <td>0.07</td>\n",
       "      <td>0.05</td>\n",
       "      <td>-0.20</td>\n",
       "    </tr>\n",
       "    <tr>\n",
       "      <th>6</th>\n",
       "      <td>-0.10</td>\n",
       "      <td>0.20</td>\n",
       "      <td>0.10</td>\n",
       "    </tr>\n",
       "    <tr>\n",
       "      <th>7</th>\n",
       "      <td>0.15</td>\n",
       "      <td>0.05</td>\n",
       "      <td>-0.10</td>\n",
       "    </tr>\n",
       "    <tr>\n",
       "      <th>8</th>\n",
       "      <td>-0.15</td>\n",
       "      <td>-0.10</td>\n",
       "      <td>-0.10</td>\n",
       "    </tr>\n",
       "    <tr>\n",
       "      <th>9</th>\n",
       "      <td>0.05</td>\n",
       "      <td>0.10</td>\n",
       "      <td>0.05</td>\n",
       "    </tr>\n",
       "    <tr>\n",
       "      <th>10</th>\n",
       "      <td>0.05</td>\n",
       "      <td>0.05</td>\n",
       "      <td>0.05</td>\n",
       "    </tr>\n",
       "  </tbody>\n",
       "</table>\n",
       "</div>"
      ]
     },
     "execution_count": 3,
     "metadata": {},
     "output_type": "execute_result"
    }
   ],
   "execution_count": 3
  },
  {
   "cell_type": "code",
   "id": "27aed353-56b2-496b-a150-bad8d2ad56c1",
   "metadata": {
    "ExecuteTime": {
     "end_time": "2024-09-14T14:09:08.882139Z",
     "start_time": "2024-09-14T14:09:08.865164Z"
    }
   },
   "source": [
    "data_dict = {}\n",
    "for i, row in df_new.iterrows():\n",
    "    for j, value in row.items():\n",
    "        data_dict[(i, j)] = value\n",
    "#تعریف آرایه برای مقادیر a \n",
    "model.a=pyo.Param(model.sset, model.iset, default=0, initialize=data_dict)\n"
   ],
   "outputs": [],
   "execution_count": 4
  },
  {
   "cell_type": "code",
   "id": "56133da3-b195-4252-abc5-8ee906647a8f",
   "metadata": {
    "ExecuteTime": {
     "end_time": "2024-09-14T14:09:13.227141Z",
     "start_time": "2024-09-14T14:09:13.211140Z"
    }
   },
   "source": [
    "data_array = np.zeros((10,3))\n",
    "for (x, y), value in data_dict.items():\n",
    "    data_array[x-1, y-1] = value\n",
    "\n",
    "#محاسبه میانگین\n",
    "mean = np.mean(data_array, axis=0)\n",
    "mean_df = pd.DataFrame(mean, columns=['Mean'], index=[1,2,3])\n",
    "mean_df"
   ],
   "outputs": [
    {
     "data": {
      "text/plain": [
       "    Mean\n",
       "1  0.012\n",
       "2  0.050\n",
       "3  0.020"
      ],
      "text/html": [
       "<div>\n",
       "<style scoped>\n",
       "    .dataframe tbody tr th:only-of-type {\n",
       "        vertical-align: middle;\n",
       "    }\n",
       "\n",
       "    .dataframe tbody tr th {\n",
       "        vertical-align: top;\n",
       "    }\n",
       "\n",
       "    .dataframe thead th {\n",
       "        text-align: right;\n",
       "    }\n",
       "</style>\n",
       "<table border=\"1\" class=\"dataframe\">\n",
       "  <thead>\n",
       "    <tr style=\"text-align: right;\">\n",
       "      <th></th>\n",
       "      <th>Mean</th>\n",
       "    </tr>\n",
       "  </thead>\n",
       "  <tbody>\n",
       "    <tr>\n",
       "      <th>1</th>\n",
       "      <td>0.012</td>\n",
       "    </tr>\n",
       "    <tr>\n",
       "      <th>2</th>\n",
       "      <td>0.050</td>\n",
       "    </tr>\n",
       "    <tr>\n",
       "      <th>3</th>\n",
       "      <td>0.020</td>\n",
       "    </tr>\n",
       "  </tbody>\n",
       "</table>\n",
       "</div>"
      ]
     },
     "execution_count": 5,
     "metadata": {},
     "output_type": "execute_result"
    }
   ],
   "execution_count": 5
  },
  {
   "cell_type": "code",
   "id": "eb0c04cf-b748-47b9-8e26-6b51fb0a2a01",
   "metadata": {
    "ExecuteTime": {
     "end_time": "2024-09-14T14:09:17.051986Z",
     "start_time": "2024-09-14T14:09:17.039282Z"
    }
   },
   "source": [
    "def rule_mean(model, i):\n",
    " return mean[i-1]\n",
    "model.mean=pyo.Param(model.iset, initialize=rule_mean)"
   ],
   "outputs": [],
   "execution_count": 6
  },
  {
   "cell_type": "code",
   "id": "906e7f1b-af4e-4508-ac08-b6d349145b36",
   "metadata": {
    "ExecuteTime": {
     "end_time": "2024-09-14T14:09:20.057202Z",
     "start_time": "2024-09-14T14:09:20.046958Z"
    }
   },
   "source": [
    "model.obj = Objective(expr=model.v- (1/model.alpha)*sum (model.p[s] * model.y[s] for s in model.sset), sense=pyo.maximize)"
   ],
   "outputs": [],
   "execution_count": 7
  },
  {
   "cell_type": "code",
   "id": "ff0fa59b-db76-4502-b8de-c13862631b94",
   "metadata": {
    "ExecuteTime": {
     "end_time": "2024-09-14T14:09:25.205607Z",
     "start_time": "2024-09-14T14:09:25.188070Z"
    }
   },
   "source": [
    "def rule_const1(model):\n",
    " return sum(model.mean[i]*model.x[i] for i in model.iset) >= model.Q * model.C\n",
    "model.const1 = pyo.Constraint(rule=rule_const1)\n",
    "\n",
    "def rule_const2(model):\n",
    " return sum(model.x[i] for i in model.iset) == model.C\n",
    "model.const2 = pyo.Constraint(rule=rule_const2)\n",
    "\n",
    "def rule_const3(model,s):\n",
    "    return model.y[s] >= model.v - (1/model.C)*sum(model.a[s,i]*model.x[i] for i in model.iset)\n",
    "model.const3 = Constraint( model.sset, rule=rule_const3)"
   ],
   "outputs": [],
   "execution_count": 8
  },
  {
   "cell_type": "code",
   "id": "eb1d48f3-3d7a-418b-8916-31aaa928574b",
   "metadata": {
    "ExecuteTime": {
     "end_time": "2024-09-14T14:09:34.613623Z",
     "start_time": "2024-09-14T14:09:33.165463Z"
    }
   },
   "source": [
    "%reload_ext gams.magic"
   ],
   "outputs": [],
   "execution_count": 9
  },
  {
   "cell_type": "code",
   "id": "5e88dbaf-10dc-4946-be5c-5e91c80e5117",
   "metadata": {
    "ExecuteTime": {
     "end_time": "2024-09-14T14:09:41.810224Z",
     "start_time": "2024-09-14T14:09:37.415726Z"
    }
   },
   "source": [
    "%gams set i(*);\n"
   ],
   "outputs": [],
   "execution_count": 10
  },
  {
   "cell_type": "code",
   "id": "32dcdfdd-5db3-4570-a61b-3bd84bd6b091",
   "metadata": {
    "ExecuteTime": {
     "end_time": "2024-09-14T14:09:49.662585Z",
     "start_time": "2024-09-14T14:09:49.236484Z"
    }
   },
   "source": [
    "%%gams\n",
    "set j;\n",
    "parameter p(i,j);\n",
    "parameter p2(i,j);\n"
   ],
   "outputs": [],
   "execution_count": 11
  },
  {
   "cell_type": "code",
   "id": "330d2bbd-414f-4673-b576-eece3f8c46c3",
   "metadata": {
    "ExecuteTime": {
     "end_time": "2024-09-14T14:09:59.910465Z",
     "start_time": "2024-09-14T14:09:56.629239Z"
    }
   },
   "source": [
    "solver = SolverFactory('gams')\n",
    "result = solver.solve(model, solver='BARON', keepfiles=True, tee=True, io_options={'solvelink': 2},add_options=['option optcr=0;'])\n",
    "model.display()\n",
    "\n",
    "x1_value = pyo.value(model.x[1])\n",
    "x2_value = pyo.value(model.x[2])\n",
    "x3_value=pyo.value(model.x[3])\n",
    "objective_value = pyo.value(model.obj)\n",
    "\n",
    "print(f\"x1 = {x1_value}\")\n",
    "print(f\"x2 = {x2_value}\")\n",
    "print(f\"x3 = {x3_value}\")"
   ],
   "outputs": [
    {
     "name": "stdout",
     "output_type": "stream",
     "text": [
      "--- Job model.gms Start 09/14/24 17:39:58 47.3.0 125a0e22 WEX-WEI x86 64bit/MS Windows\n",
      "--- Applying:\n",
      "    C:\\GAMS\\47\\gmsprmNT.txt\n",
      "--- GAMS Parameters defined\n",
      "    Input C:\\Users\\farim\\AppData\\Local\\Temp\\tmp1z1za35p\\model.gms\n",
      "    Output C:\\Users\\farim\\AppData\\Local\\Temp\\tmp1z1za35p\\output.lst\n",
      "    ScrDir C:\\Users\\farim\\AppData\\Local\\Temp\\tmp1z1za35p\\225a\\\n",
      "    SysDir C:\\GAMS\\47\\\n",
      "    CurDir C:\\Users\\farim\\AppData\\Local\\Temp\\tmp1z1za35p\\\n",
      "    LogOption 3\n",
      "Licensee: GAMS Demo, for EULA and demo limitations see   G240530/0001CB-GEN\n",
      "          https://www.gams.com/latest/docs/UG%5FLicense.html         DC0000\n",
      "          C:\\GAMS\\47\\gamslice.txt\n",
      "          Demo license for demonstration and instructional purposes only\n",
      "Processor information: 1 socket(s), 4 core(s), and 8 thread(s) available\n",
      "GAMS 47.3.0   Copyright (C) 1987-2024 GAMS Development. All rights reserved\n",
      "--- Starting compilation\n",
      "--- model.gms(148) 2 Mb\n",
      "--- Starting execution: elapsed 0:00:00.017\n",
      "--- model.gms(63) 3 Mb\n",
      "--- Generating LP model GAMS_MODEL\n",
      "--- model.gms(67) 3 Mb\n",
      "---   13 rows  15 columns  68 non-zeroes\n",
      "--- Range statistics (absolute non-zero finite values)\n",
      "--- RHS       [min, max] : [ 2.000E+01, 1.000E+03] - Zero values observed as well\n",
      "--- Bound     [min, max] : [        NA,        NA] - Zero values observed as well\n",
      "--- Matrix    [min, max] : [ 5.000E-05, 1.000E+00]\n",
      "--- Executing BARON (Solvelink=2): elapsed 0:00:00.023\n",
      "\n",
      "GAMS/BARON       47.3.0 125a0e22 Jul 15, 2024          WEI x86 64bit/MS Window\n",
      "\n",
      "*** This solver runs with a demo license. No commercial use.\n",
      "===========================================================================\n",
      " BARON version 24.5.8. Built: WIN-64 Wed May 8 10:05:37 EDT 2024 \n",
      " Running on machine LAPTOP-0F7NRT3G\n",
      "\n",
      " BARON is a product of The Optimization Firm.\n",
      " For information on BARON, see https://minlp.com/about-baron\n",
      "\n",
      " If you publish work using this software, please cite publications from\n",
      " https://minlp.com/baron-publications, such as: \n",
      "\n",
      " Zhang, Y., N. Ploskas, and N. V. Sahinidis,\n",
      " A novel linear programming presolve technique based on Fourier-Motzkin\n",
      " elimination, Mathematical Programming Computation, submitted, 2024.\n",
      "===========================================================================\n",
      " This BARON run may utilize the following subsolver(s)\n",
      " For LP/MIP/QP: CLP/CBC, ILOG CPLEX                             \n",
      " For NLP: MINOS, SNOPT, External NLP, IPOPT, FILTERSQP\n",
      "===========================================================================\n",
      " Solving bounding LP\n",
      " Preprocessing found feasible solution with value -0.722892E-01\n",
      " Problem solved during preprocessing\n",
      " Upper bound is  -0.722892E-01\n",
      "\n",
      " Calculating duals\n",
      "\n",
      "                         *** Normal completion ***            \n",
      "\n",
      " Wall clock time:                     0.62\n",
      " Total CPU time used:                 0.02\n",
      "\n",
      " Total no. of BaR iterations:      -1\n",
      " Best solution found at node:      -1\n",
      " Max. no. of nodes in memory:       0\n",
      " \n",
      " All done\n",
      "===========================================================================\n",
      "\n",
      "Solution      = -0.072289156626506  best solution found during preprocessing\n",
      "Best possible = -0.072289156626506\n",
      "Absolute gap  = 0  optca = 1E-9\n",
      "Relative gap  = 0  optcr = 1E-9\n",
      "\n",
      "--- Reading solution for model GAMS_MODEL\n",
      "--- Executing after solve: elapsed 0:00:01.365\n",
      "--- model.gms(70) 3 Mb\n",
      "--- model.gms(148) 4 Mb\n",
      "--- Putfile results C:\\Users\\farim\\AppData\\Local\\Temp\\tmp1z1za35p\\results.dat\n",
      "--- Putfile statresults C:\\Users\\farim\\AppData\\Local\\Temp\\tmp1z1za35p\\resultsstat.dat\n",
      "*** Status: Normal completion\n",
      "--- Job model.gms Stop 09/14/24 17:39:59 elapsed 0:00:01.368\n",
      "\n",
      "GAMS WORKING DIRECTORY: C:\\Users\\farim\\AppData\\Local\\Temp\\tmp1z1za35p\n",
      "\n",
      "Model unknown\n",
      "\n",
      "  Variables:\n",
      "    x : Size=3, Index=iset\n",
      "        Key : Lower : Value             : Upper : Fixed : Stale : Domain\n",
      "          1 :     0 :  542.168674698795 :  None : False : False : NonNegativeReals\n",
      "          2 :     0 : 144.5783132530123 :  None : False : False : NonNegativeReals\n",
      "          3 :     0 : 313.2530120481927 :  None : False : False : NonNegativeReals\n",
      "    y : Size=10, Index=sset\n",
      "        Key : Lower : Value             : Upper : Fixed : Stale : Domain\n",
      "          1 :     0 :               0.0 :  None : False : False : NonNegativeReals\n",
      "          2 :     0 :               0.0 :  None : False : False : NonNegativeReals\n",
      "          3 :     0 :               0.0 :  None : False : False : NonNegativeReals\n",
      "          4 :     0 :               0.0 :  None : False : False : NonNegativeReals\n",
      "          5 :     0 :               0.0 :  None : False : False : NonNegativeReals\n",
      "          6 :     0 :               0.0 :  None : False : False : NonNegativeReals\n",
      "          7 :     0 :               0.0 :  None : False : False : NonNegativeReals\n",
      "          8 :     0 : 0.109638554216867 :  None : False : False : NonNegativeReals\n",
      "          9 :     0 :               0.0 :  None : False : False : NonNegativeReals\n",
      "         10 :     0 :               0.0 :  None : False : False : NonNegativeReals\n",
      "    v : Size=1, Index=None\n",
      "        Key  : Lower : Value              : Upper : Fixed : Stale : Domain\n",
      "        None :  None : -0.017469879518072 :  None : False : False :  Reals\n",
      "\n",
      "  Objectives:\n",
      "    obj : Size=1, Index=None, Active=True\n",
      "        Key  : Active : Value\n",
      "        None :   True : -0.07228915662650551\n",
      "\n",
      "  Constraints:\n",
      "    const1 : Size=1\n",
      "        Key  : Lower : Body              : Upper\n",
      "        None :  20.0 : 20.00000000000001 :  None\n",
      "    const2 : Size=1\n",
      "        Key  : Lower  : Body   : Upper\n",
      "        None : 1000.0 : 1000.0 : 1000.0\n",
      "    const3 : Size=10\n",
      "        Key : Lower : Body                   : Upper\n",
      "          1 :  None :   -0.04337349397590334 :   0.0\n",
      "          2 :  None :   -0.05180722891566239 :   0.0\n",
      "          3 :  None :   -0.14879518072289127 :   0.0\n",
      "          4 :  None : 3.2612801348363973e-16 :   0.0\n",
      "          5 :  None : 2.7755575615628914e-16 :   0.0\n",
      "          6 :  None :  -0.023493975903614232 :   0.0\n",
      "          7 :  None :    -0.0746987951807226 :   0.0\n",
      "          8 :  None : 7.4593109467002705e-16 :   0.0\n",
      "          9 :  None :   -0.07469879518072262 :   0.0\n",
      "         10 :  None :     -0.067469879518072 :   0.0\n",
      "x1 = 542.168674698795\n",
      "x2 = 144.5783132530123\n",
      "x3 = 313.2530120481927\n"
     ]
    }
   ],
   "execution_count": 12
  },
  {
   "cell_type": "code",
   "execution_count": null,
   "id": "c543a8f8-7f9b-4b1c-9b6e-ab38154daccd",
   "metadata": {},
   "outputs": [],
   "source": []
  }
 ],
 "metadata": {
  "kernelspec": {
   "display_name": "Python 3 (ipykernel)",
   "language": "python",
   "name": "python3"
  },
  "language_info": {
   "codemirror_mode": {
    "name": "ipython",
    "version": 3
   },
   "file_extension": ".py",
   "mimetype": "text/x-python",
   "name": "python",
   "nbconvert_exporter": "python",
   "pygments_lexer": "ipython3",
   "version": "3.12.3"
  }
 },
 "nbformat": 4,
 "nbformat_minor": 5
}
