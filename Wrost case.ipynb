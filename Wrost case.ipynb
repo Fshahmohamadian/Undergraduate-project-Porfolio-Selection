{
 "cells": [
  {
   "cell_type": "markdown",
   "id": "d6df0812-1cf1-4769-875c-7d426c6966c4",
   "metadata": {},
   "source": [
    "# Requierments"
   ]
  },
  {
   "cell_type": "code",
   "id": "dad8751c-49ce-4e54-a031-caf116832861",
   "metadata": {
    "ExecuteTime": {
     "end_time": "2024-09-14T14:15:58.067202Z",
     "start_time": "2024-09-14T14:15:56.028761Z"
    }
   },
   "source": [
    "from pyomo.environ import ConcreteModel, Var, Objective, Constraint, NonNegativeReals, minimize, SolverFactory\n",
    "import pyomo.environ as pyo\n",
    "import pandas as pd\n",
    "import numpy as np\n",
    "import warnings"
   ],
   "outputs": [],
   "execution_count": 1
  },
  {
   "cell_type": "code",
   "id": "0638ab4b-adb2-4402-9b57-6dbf9141fd09",
   "metadata": {
    "ExecuteTime": {
     "end_time": "2024-09-14T14:15:58.093247Z",
     "start_time": "2024-09-14T14:15:58.087203Z"
    }
   },
   "source": [
    "warnings.filterwarnings('ignore') "
   ],
   "outputs": [],
   "execution_count": 2
  },
  {
   "cell_type": "markdown",
   "id": "696f066c-e838-47a5-8a03-d751c012e846",
   "metadata": {},
   "source": [
    "# Parameters and Variables"
   ]
  },
  {
   "cell_type": "code",
   "id": "4576e9e7-6018-4c59-a984-60bf1aa4ec30",
   "metadata": {
    "ExecuteTime": {
     "end_time": "2024-09-14T14:12:33.347758Z",
     "start_time": "2024-09-14T14:12:32.813402Z"
    }
   },
   "source": [
    "model =pyo.ConcreteModel()\n",
    "model.iset=pyo.Set(initialize=range(1,4))\n",
    "model.sset=pyo.Set(initialize=range(1,11))\n",
    "model.C=pyo.Param(initialize=1000)\n",
    "model.Q=pyo.Param(initialize=0.02)\n",
    "model.s=pyo.Param(model.sset, default=0, initialize=0.1)\n",
    "\n",
    "model.x=pyo.Var(model.iset, domain=pyo.NonNegativeReals)\n",
    "df = pd.read_excel('Book1.xlsx')\n",
    "df_new=df.copy()\n",
    "df_new.index= range(1,11)\n",
    "df_new"
   ],
   "outputs": [
    {
     "data": {
      "text/plain": [
       "       1     2     3\n",
       "1   0.05  0.10 -0.05\n",
       "2  -0.05  0.10  0.15\n",
       "3   0.10  0.10  0.20\n",
       "4  -0.05 -0.15  0.10\n",
       "5   0.07  0.05 -0.20\n",
       "6  -0.10  0.20  0.10\n",
       "7   0.15  0.05 -0.10\n",
       "8  -0.15 -0.10 -0.10\n",
       "9   0.05  0.10  0.05\n",
       "10  0.05  0.05  0.05"
      ],
      "text/html": [
       "<div>\n",
       "<style scoped>\n",
       "    .dataframe tbody tr th:only-of-type {\n",
       "        vertical-align: middle;\n",
       "    }\n",
       "\n",
       "    .dataframe tbody tr th {\n",
       "        vertical-align: top;\n",
       "    }\n",
       "\n",
       "    .dataframe thead th {\n",
       "        text-align: right;\n",
       "    }\n",
       "</style>\n",
       "<table border=\"1\" class=\"dataframe\">\n",
       "  <thead>\n",
       "    <tr style=\"text-align: right;\">\n",
       "      <th></th>\n",
       "      <th>1</th>\n",
       "      <th>2</th>\n",
       "      <th>3</th>\n",
       "    </tr>\n",
       "  </thead>\n",
       "  <tbody>\n",
       "    <tr>\n",
       "      <th>1</th>\n",
       "      <td>0.05</td>\n",
       "      <td>0.10</td>\n",
       "      <td>-0.05</td>\n",
       "    </tr>\n",
       "    <tr>\n",
       "      <th>2</th>\n",
       "      <td>-0.05</td>\n",
       "      <td>0.10</td>\n",
       "      <td>0.15</td>\n",
       "    </tr>\n",
       "    <tr>\n",
       "      <th>3</th>\n",
       "      <td>0.10</td>\n",
       "      <td>0.10</td>\n",
       "      <td>0.20</td>\n",
       "    </tr>\n",
       "    <tr>\n",
       "      <th>4</th>\n",
       "      <td>-0.05</td>\n",
       "      <td>-0.15</td>\n",
       "      <td>0.10</td>\n",
       "    </tr>\n",
       "    <tr>\n",
       "      <th>5</th>\n",
       "      <td>0.07</td>\n",
       "      <td>0.05</td>\n",
       "      <td>-0.20</td>\n",
       "    </tr>\n",
       "    <tr>\n",
       "      <th>6</th>\n",
       "      <td>-0.10</td>\n",
       "      <td>0.20</td>\n",
       "      <td>0.10</td>\n",
       "    </tr>\n",
       "    <tr>\n",
       "      <th>7</th>\n",
       "      <td>0.15</td>\n",
       "      <td>0.05</td>\n",
       "      <td>-0.10</td>\n",
       "    </tr>\n",
       "    <tr>\n",
       "      <th>8</th>\n",
       "      <td>-0.15</td>\n",
       "      <td>-0.10</td>\n",
       "      <td>-0.10</td>\n",
       "    </tr>\n",
       "    <tr>\n",
       "      <th>9</th>\n",
       "      <td>0.05</td>\n",
       "      <td>0.10</td>\n",
       "      <td>0.05</td>\n",
       "    </tr>\n",
       "    <tr>\n",
       "      <th>10</th>\n",
       "      <td>0.05</td>\n",
       "      <td>0.05</td>\n",
       "      <td>0.05</td>\n",
       "    </tr>\n",
       "  </tbody>\n",
       "</table>\n",
       "</div>"
      ]
     },
     "execution_count": 3,
     "metadata": {},
     "output_type": "execute_result"
    }
   ],
   "execution_count": 3
  },
  {
   "cell_type": "code",
   "execution_count": 4,
   "id": "8285b270-4816-43e5-bb4e-a229e9347768",
   "metadata": {},
   "outputs": [],
   "source": [
    "data_dict = {}\n",
    "for i, row in df_new.iterrows():\n",
    "    for j, value in row.items():\n",
    "        data_dict[(i, j)] = value\n",
    "#تعریف آرایه برای مقادیر a \n",
    "model.a=pyo.Param(model.sset, model.iset, default=0, initialize=data_dict)\n"
   ]
  },
  {
   "cell_type": "code",
   "execution_count": 5,
   "id": "78355e20-941f-4836-9a97-02306be6c1c2",
   "metadata": {},
   "outputs": [
    {
     "data": {
      "text/html": [
       "<div>\n",
       "<style scoped>\n",
       "    .dataframe tbody tr th:only-of-type {\n",
       "        vertical-align: middle;\n",
       "    }\n",
       "\n",
       "    .dataframe tbody tr th {\n",
       "        vertical-align: top;\n",
       "    }\n",
       "\n",
       "    .dataframe thead th {\n",
       "        text-align: right;\n",
       "    }\n",
       "</style>\n",
       "<table border=\"1\" class=\"dataframe\">\n",
       "  <thead>\n",
       "    <tr style=\"text-align: right;\">\n",
       "      <th></th>\n",
       "      <th>Mean</th>\n",
       "    </tr>\n",
       "  </thead>\n",
       "  <tbody>\n",
       "    <tr>\n",
       "      <th>1</th>\n",
       "      <td>0.012</td>\n",
       "    </tr>\n",
       "    <tr>\n",
       "      <th>2</th>\n",
       "      <td>0.050</td>\n",
       "    </tr>\n",
       "    <tr>\n",
       "      <th>3</th>\n",
       "      <td>0.020</td>\n",
       "    </tr>\n",
       "  </tbody>\n",
       "</table>\n",
       "</div>"
      ],
      "text/plain": [
       "    Mean\n",
       "1  0.012\n",
       "2  0.050\n",
       "3  0.020"
      ]
     },
     "execution_count": 5,
     "metadata": {},
     "output_type": "execute_result"
    }
   ],
   "source": [
    "data_array = np.zeros((10,3))\n",
    "for (x, y), value in data_dict.items():\n",
    "    data_array[x-1, y-1] = value\n",
    "\n",
    "#محاسبه میانگین\n",
    "mean = np.mean(data_array, axis=0)\n",
    "mean_df = pd.DataFrame(mean, columns=['Mean'], index=[1,2,3])\n",
    "mean_df"
   ]
  },
  {
   "cell_type": "code",
   "execution_count": 6,
   "id": "849e5859-0613-45cc-966d-bade192d73fb",
   "metadata": {},
   "outputs": [],
   "source": [
    "def rule_mean(model, i):\n",
    " return mean[i-1]\n",
    "model.mean=pyo.Param(model.iset, initialize=rule_mean)"
   ]
  },
  {
   "cell_type": "markdown",
   "id": "726f1203-9ff3-42c2-83a9-43ebe829b6d3",
   "metadata": {},
   "source": [
    "# Objective"
   ]
  },
  {
   "cell_type": "code",
   "execution_count": 7,
   "id": "fdeb0f30-c9c5-426f-bbf2-390be35e28aa",
   "metadata": {},
   "outputs": [],
   "source": [
    "model.min_sum = Var(domain=pyo.Reals)\n",
    "def min_sum_constraint_rule(model, s):\n",
    "    return model.min_sum <= sum(model.a[s, i] * model.x[i] for i in model.iset)\n",
    "model.min_sum_constraints = Constraint(model.sset, rule=min_sum_constraint_rule)"
   ]
  },
  {
   "cell_type": "code",
   "execution_count": 8,
   "id": "d7515f7d-c379-4dd7-979b-457f7ae7801c",
   "metadata": {},
   "outputs": [],
   "source": [
    "model.obj = Objective(expr=(1/model.C)*(model.min_sum), sense=pyo.maximize)"
   ]
  },
  {
   "cell_type": "code",
   "execution_count": 9,
   "id": "1ce2cf19-8903-4836-b8ab-bbd8e726b33a",
   "metadata": {},
   "outputs": [],
   "source": [
    "def rule_const1(model):\n",
    " return sum(model.mean[i]*model.x[i] for i in model.iset) >= model.Q * model.C\n",
    "model.const1 = pyo.Constraint(rule=rule_const1)\n",
    "\n",
    "def rule_const2(model):\n",
    " return sum(model.x[i] for i in model.iset) == model.C\n",
    "model.const2 = pyo.Constraint(rule=rule_const2)\n"
   ]
  },
  {
   "cell_type": "code",
   "execution_count": 10,
   "id": "d13a4433-5827-4339-93a4-867d4f128a34",
   "metadata": {},
   "outputs": [],
   "source": [
    "%reload_ext gams.magic"
   ]
  },
  {
   "cell_type": "code",
   "execution_count": 11,
   "id": "1aa26dc7-b2f6-406f-84df-3a31e35ae16c",
   "metadata": {},
   "outputs": [],
   "source": [
    "%gams set i(*);\n"
   ]
  },
  {
   "cell_type": "code",
   "execution_count": 12,
   "id": "92e716db-ff3d-4162-b424-e9ad4f68795c",
   "metadata": {},
   "outputs": [],
   "source": [
    "%%gams\n",
    "set j;\n",
    "parameter p(i,j);\n",
    "parameter p2(i,j);\n"
   ]
  },
  {
   "cell_type": "code",
   "execution_count": 13,
   "id": "33ceb6f5-cad5-411c-bc0b-443ff8658e18",
   "metadata": {
    "scrolled": true
   },
   "outputs": [
    {
     "name": "stdout",
     "output_type": "stream",
     "text": [
      "--- Job model.gms Start 07/29/24 12:48:00 47.3.0 125a0e22 WEX-WEI x86 64bit/MS Windows\n",
      "--- Applying:\n",
      "    C:\\GAMS\\47\\gmsprmNT.txt\n",
      "--- GAMS Parameters defined\n",
      "    Input C:\\Users\\farim\\AppData\\Local\\Temp\\tmp1p_gmg8c\\model.gms\n",
      "    Output C:\\Users\\farim\\AppData\\Local\\Temp\\tmp1p_gmg8c\\output.lst\n",
      "    ScrDir C:\\Users\\farim\\AppData\\Local\\Temp\\tmp1p_gmg8c\\225a\\\n",
      "    SysDir C:\\GAMS\\47\\\n",
      "    CurDir C:\\Users\\farim\\AppData\\Local\\Temp\\tmp1p_gmg8c\\\n",
      "    LogOption 3\n",
      "Licensee: GAMS Demo, for EULA and demo limitations see   G240530/0001CB-GEN\n",
      "          https://www.gams.com/latest/docs/UG%5FLicense.html         DC0000\n",
      "          C:\\GAMS\\47\\gamslice.txt\n",
      "          Demo license for demonstration and instructional purposes only\n",
      "Processor information: 1 socket(s), 4 core(s), and 8 thread(s) available\n",
      "GAMS 47.3.0   Copyright (C) 1987-2024 GAMS Development. All rights reserved\n",
      "--- Starting compilation\n",
      "--- model.gms(128) 2 Mb\n",
      "--- Starting execution: elapsed 0:00:00.011\n",
      "--- model.gms(53) 3 Mb\n",
      "--- Generating LP model GAMS_MODEL\n",
      "--- model.gms(57) 3 Mb\n",
      "---   13 rows  5 columns  48 non-zeroes\n",
      "--- Range statistics (absolute non-zero finite values)\n",
      "--- RHS       [min, max] : [ 2.000E+01, 1.000E+03] - Zero values observed as well\n",
      "--- Bound     [min, max] : [        NA,        NA] - Zero values observed as well\n",
      "--- Matrix    [min, max] : [ 1.000E-03, 1.000E+00]\n",
      "--- Executing BARON (Solvelink=2): elapsed 0:00:00.016\n",
      "\n",
      "GAMS/BARON       47.3.0 125a0e22 Jul 15, 2024          WEI x86 64bit/MS Window\n",
      "\n",
      "*** This solver runs with a demo license. No commercial use.\n",
      "===========================================================================\n",
      " BARON version 24.5.8. Built: WIN-64 Wed May 8 10:05:37 EDT 2024 \n",
      " Running on machine LAPTOP-0F7NRT3G\n",
      "\n",
      " BARON is a product of The Optimization Firm.\n",
      " For information on BARON, see https://minlp.com/about-baron\n",
      "\n",
      " If you publish work using this software, please cite publications from\n",
      " https://minlp.com/baron-publications, such as: \n",
      "\n",
      " Zhang, Y., N. Ploskas, and N. V. Sahinidis,\n",
      " A novel linear programming presolve technique based on Fourier-Motzkin\n",
      " elimination, Mathematical Programming Computation, submitted, 2024.\n",
      "===========================================================================\n",
      " This BARON run may utilize the following subsolver(s)\n",
      " For LP/MIP/QP: CLP/CBC, ILOG CPLEX                             \n",
      " For NLP: MINOS, SNOPT, External NLP, IPOPT, FILTERSQP\n",
      "===========================================================================\n",
      " Solving bounding LP\n",
      " Preprocessing found feasible solution with value -0.100000\n",
      " Problem solved during preprocessing\n",
      " Upper bound is  -0.100000\n",
      "\n",
      " Calculating duals\n",
      "\n",
      "                         *** Normal completion ***            \n",
      "\n",
      " Wall clock time:                     0.04\n",
      " Total CPU time used:                 0.02\n",
      "\n",
      " Total no. of BaR iterations:      -1\n",
      " Best solution found at node:      -1\n",
      " Max. no. of nodes in memory:       0\n",
      " \n",
      " All done\n",
      "===========================================================================\n",
      "\n",
      "Solution      = -0.1  best solution found during preprocessing\n",
      "Best possible = -0.1\n",
      "Absolute gap  = 0  optca = 1E-9\n",
      "Relative gap  = 0  optcr = 1E-9\n",
      "\n",
      "--- Reading solution for model GAMS_MODEL\n",
      "--- Executing after solve: elapsed 0:00:00.178\n",
      "--- model.gms(128) 4 Mb\n",
      "--- Putfile results C:\\Users\\farim\\AppData\\Local\\Temp\\tmp1p_gmg8c\\results.dat\n",
      "--- Putfile statresults C:\\Users\\farim\\AppData\\Local\\Temp\\tmp1p_gmg8c\\resultsstat.dat\n",
      "*** Status: Normal completion\n",
      "--- Job model.gms Stop 07/29/24 12:48:00 elapsed 0:00:00.181\n",
      "\n",
      "GAMS WORKING DIRECTORY: C:\\Users\\farim\\AppData\\Local\\Temp\\tmp1p_gmg8c\n",
      "\n",
      "Model unknown\n",
      "\n",
      "  Variables:\n",
      "    x : Size=3, Index=iset\n",
      "        Key : Lower : Value : Upper : Fixed : Stale : Domain\n",
      "          1 :     0 :   0.0 :  None : False : False : NonNegativeReals\n",
      "          2 :     0 : 400.0 :  None : False : False : NonNegativeReals\n",
      "          3 :     0 : 600.0 :  None : False : False : NonNegativeReals\n",
      "    min_sum : Size=1, Index=None\n",
      "        Key  : Lower : Value  : Upper : Fixed : Stale : Domain\n",
      "        None :  None : -100.0 :  None : False : False :  Reals\n",
      "\n",
      "  Objectives:\n",
      "    obj : Size=1, Index=None, Active=True\n",
      "        Key  : Active : Value\n",
      "        None :   True :  -0.1\n",
      "\n",
      "  Constraints:\n",
      "    min_sum_constraints : Size=10\n",
      "        Key : Lower : Body   : Upper\n",
      "          1 :  None : -110.0 :   0.0\n",
      "          2 :  None : -230.0 :   0.0\n",
      "          3 :  None : -260.0 :   0.0\n",
      "          4 :  None : -100.0 :   0.0\n",
      "          5 :  None :    0.0 :   0.0\n",
      "          6 :  None : -240.0 :   0.0\n",
      "          7 :  None :  -60.0 :   0.0\n",
      "          8 :  None :    0.0 :   0.0\n",
      "          9 :  None : -170.0 :   0.0\n",
      "         10 :  None : -150.0 :   0.0\n",
      "    const1 : Size=1\n",
      "        Key  : Lower : Body : Upper\n",
      "        None :  20.0 : 32.0 :  None\n",
      "    const2 : Size=1\n",
      "        Key  : Lower  : Body   : Upper\n",
      "        None : 1000.0 : 1000.0 : 1000.0\n",
      "x1 = 0.0\n",
      "x2 = 400.0\n",
      "x3 = 600.0\n"
     ]
    }
   ],
   "source": [
    "solver = SolverFactory('gams')\n",
    "result = solver.solve(model, solver='BARON', keepfiles=True, tee=True, io_options={'solvelink': 2},add_options=['option optcr=0;'])\n",
    "model.display()\n",
    "\n",
    "x1_value = pyo.value(model.x[1])\n",
    "x2_value = pyo.value(model.x[2])\n",
    "x3_value=pyo.value(model.x[3])\n",
    "objective_value = pyo.value(model.obj)\n",
    "\n",
    "print(f\"x1 = {x1_value}\")\n",
    "print(f\"x2 = {x2_value}\")\n",
    "print(f\"x3 = {x3_value}\")"
   ]
  },
  {
   "cell_type": "code",
   "execution_count": null,
   "id": "51b61aee-52d1-4b7d-b087-9a0b97094088",
   "metadata": {},
   "outputs": [],
   "source": []
  }
 ],
 "metadata": {
  "kernelspec": {
   "display_name": "Python 3 (ipykernel)",
   "language": "python",
   "name": "python3"
  },
  "language_info": {
   "codemirror_mode": {
    "name": "ipython",
    "version": 3
   },
   "file_extension": ".py",
   "mimetype": "text/x-python",
   "name": "python",
   "nbconvert_exporter": "python",
   "pygments_lexer": "ipython3",
   "version": "3.12.3"
  }
 },
 "nbformat": 4,
 "nbformat_minor": 5
}
